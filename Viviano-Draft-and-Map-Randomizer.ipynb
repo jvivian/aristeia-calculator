{
 "cells": [
  {
   "cell_type": "markdown",
   "metadata": {},
   "source": [
    "# The Viviano Draft\n",
    "...Because random teams let you blame something other than yourself!"
   ]
  },
  {
   "cell_type": "code",
   "execution_count": 1,
   "metadata": {},
   "outputs": [],
   "source": [
    "from viviano_draft import generate_initial_teams, create_mulligan\n",
    "from viviano_draft import run_mulligan, pick_map\n",
    "from viviano_draft import maps, core, sof, sm, hf"
   ]
  },
  {
   "cell_type": "code",
   "execution_count": 2,
   "metadata": {},
   "outputs": [],
   "source": [
    "from ipywidgets import Button"
   ]
  },
  {
   "cell_type": "markdown",
   "metadata": {},
   "source": [
    "# Pick Map\n",
    "Click on the cell below and hit `Shift + Enter`"
   ]
  },
  {
   "cell_type": "code",
   "execution_count": null,
   "metadata": {},
   "outputs": [],
   "source": [
    "pick_map(maps)"
   ]
  },
  {
   "cell_type": "markdown",
   "metadata": {},
   "source": [
    "# 1. Generate Initial Teams\n",
    "Click on the cell below and hit `Shift + Enter` after defining your team. Look at the examples below to choose which expansions you want to include. \n",
    "\n",
    "- `core` = Core set of 8 charactesr\n",
    "- `sof` = Soldiers of Fortune\n",
    "- `sm` = Smoke and Mirrors\n",
    "- `hf` = Human Fate\n"
   ]
  },
  {
   "cell_type": "code",
   "execution_count": null,
   "metadata": {},
   "outputs": [],
   "source": [
    "# Team Examples\n",
    "# team1 = core\n",
    "# team2 = core + sof\n",
    "# team3 = core + sof + sm + hf\n",
    "team = core + sof + sm + hf\n",
    "\n",
    "# Generate initial teams\n",
    "t1, t2 = generate_initial_teams(team)"
   ]
  },
  {
   "cell_type": "markdown",
   "metadata": {},
   "source": [
    "# 2. Choose Mulligans\n",
    "Don't show your opponent your mulligan picks!\n",
    "\n",
    "Click on the cell below and hit `Shift + Enter` after both players select mulligans"
   ]
  },
  {
   "cell_type": "code",
   "execution_count": null,
   "metadata": {},
   "outputs": [],
   "source": [
    "disp, c1, c2 = create_mulligan(t1, t2)\n",
    "disp"
   ]
  },
  {
   "cell_type": "markdown",
   "metadata": {},
   "source": [
    "# 3. Generate New Teams\n",
    "Click on the cell below and hit `Shift + Enter` to select the final teams."
   ]
  },
  {
   "cell_type": "code",
   "execution_count": null,
   "metadata": {},
   "outputs": [],
   "source": [
    "run_mulligan(team, t1, c1, t2, c2)"
   ]
  }
 ],
 "metadata": {
  "kernelspec": {
   "display_name": "Python 2",
   "language": "python",
   "name": "python2"
  },
  "language_info": {
   "codemirror_mode": {
    "name": "ipython",
    "version": 2
   },
   "file_extension": ".py",
   "mimetype": "text/x-python",
   "name": "python",
   "nbconvert_exporter": "python",
   "pygments_lexer": "ipython2",
   "version": "2.7.15"
  }
 },
 "nbformat": 4,
 "nbformat_minor": 2
}
