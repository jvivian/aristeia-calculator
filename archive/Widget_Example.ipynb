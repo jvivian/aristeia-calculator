{
 "cells": [
  {
   "cell_type": "markdown",
   "metadata": {},
   "source": [
    "# Widget Test"
   ]
  },
  {
   "cell_type": "code",
   "execution_count": 18,
   "metadata": {},
   "outputs": [],
   "source": [
    "import ipywidgets as widgets\n",
    "from ipywidgets import HBox, VBox"
   ]
  },
  {
   "cell_type": "markdown",
   "metadata": {},
   "source": [
    "## Die Selection Widgets"
   ]
  },
  {
   "cell_type": "code",
   "execution_count": 44,
   "metadata": {},
   "outputs": [],
   "source": [
    "die_names = ['Blue_1', 'Blue_2', 'Blue_3', \n",
    "         'Black_1', 'Black_2', 'Black_3',\n",
    "         'Orange_1', 'Orange_2', 'Orange_3',\n",
    "         'Red', 'Green']"
   ]
  },
  {
   "cell_type": "markdown",
   "metadata": {},
   "source": [
    "## Checkboxes"
   ]
  },
  {
   "cell_type": "code",
   "execution_count": 52,
   "metadata": {},
   "outputs": [],
   "source": [
    "die_w = {x: widgets.Checkbox(description=' '.join(x.split('_'))) \n",
    "         for x in die_names}"
   ]
  },
  {
   "cell_type": "code",
   "execution_count": 53,
   "metadata": {},
   "outputs": [],
   "source": [
    "bs = VBox([die_w[x] for x in die_w.keys() if 'Blue' in x])\n",
    "ks = VBox([die_w[x] for x in die_w.keys() if 'Black' in x])\n",
    "os = VBox([die_w[x] for x in die_w.keys() if 'Orange' in x])\n",
    "rg = VBox([die_w[x] for x in die_w.keys() if 'Red' in x or 'Green' in x])"
   ]
  },
  {
   "cell_type": "code",
   "execution_count": 54,
   "metadata": {},
   "outputs": [
    {
     "data": {
      "application/vnd.jupyter.widget-view+json": {
       "model_id": "3b20e7534c394ee7b7e46f8283a27c69",
       "version_major": 2,
       "version_minor": 0
      },
      "text/html": [
       "<p>Failed to display Jupyter Widget of type <code>HBox</code>.</p>\n",
       "<p>\n",
       "  If you're reading this message in Jupyter Notebook or JupyterLab, it may mean\n",
       "  that the widgets JavaScript is still loading. If this message persists, it\n",
       "  likely means that the widgets JavaScript library is either not installed or\n",
       "  not enabled. See the <a href=\"https://ipywidgets.readthedocs.io/en/stable/user_install.html\">Jupyter\n",
       "  Widgets Documentation</a> for setup instructions.\n",
       "</p>\n",
       "<p>\n",
       "  If you're reading this message in another notebook frontend (for example, a static\n",
       "  rendering on GitHub or <a href=\"https://nbviewer.jupyter.org/\">NBViewer</a>),\n",
       "  it may mean that your frontend doesn't currently support widgets.\n",
       "</p>\n"
      ],
      "text/plain": [
       "HBox(children=(VBox(children=(Checkbox(value=False, description=u'Blue 3'), Checkbox(value=False, description=u'Blue 2'), Checkbox(value=False, description=u'Blue 1'))), VBox(children=(Checkbox(value=False, description=u'Black 3'), Checkbox(value=False, description=u'Black 2'), Checkbox(value=False, description=u'Black 1'))), VBox(children=(Checkbox(value=False, description=u'Orange 3'), Checkbox(value=False, description=u'Orange 2'), Checkbox(value=False, description=u'Orange 1'))), VBox(children=(Checkbox(value=False, description=u'Green'), Checkbox(value=False, description=u'Red')))))"
      ]
     },
     "metadata": {},
     "output_type": "display_data"
    }
   ],
   "source": [
    "HBox([bs, ks, os, rg])"
   ]
  },
  {
   "cell_type": "code",
   "execution_count": 69,
   "metadata": {},
   "outputs": [
    {
     "name": "stdout",
     "output_type": "stream",
     "text": [
      "True\n",
      "False\n"
     ]
    }
   ],
   "source": [
    "print die_w['Blue_1'].value\n",
    "print die_w['Orange_1'].value"
   ]
  },
  {
   "cell_type": "markdown",
   "metadata": {},
   "source": [
    "## Radio Boxes"
   ]
  },
  {
   "cell_type": "code",
   "execution_count": 62,
   "metadata": {},
   "outputs": [],
   "source": [
    "die_n = {'Black': 3,\n",
    "        'Orange': 3,\n",
    "        'Blue': 3,\n",
    "        'Red': 1,\n",
    "        'Green': 1}\n",
    "\n",
    "die_r = {x: widgets.RadioButtons(options=range(die_n[x] + 1), description=x) for x in die_n.keys()}"
   ]
  },
  {
   "cell_type": "code",
   "execution_count": 63,
   "metadata": {},
   "outputs": [],
   "source": [
    "bs = VBox([die_r[x] for x in die_r.keys() if 'Blue' in x])\n",
    "ks = VBox([die_r[x] for x in die_r.keys() if 'Black' in x])\n",
    "os = VBox([die_r[x] for x in die_r.keys() if 'Orange' in x])\n",
    "r = VBox([die_r[x] for x in die_r.keys() if 'Red' in x])\n",
    "g = VBox([die_r[x] for x in die_r.keys() if 'Green' in x])"
   ]
  },
  {
   "cell_type": "code",
   "execution_count": 64,
   "metadata": {},
   "outputs": [
    {
     "data": {
      "application/vnd.jupyter.widget-view+json": {
       "model_id": "081c1a0c4dd644ae9a7774e503f4735e",
       "version_major": 2,
       "version_minor": 0
      },
      "text/html": [
       "<p>Failed to display Jupyter Widget of type <code>HBox</code>.</p>\n",
       "<p>\n",
       "  If you're reading this message in Jupyter Notebook or JupyterLab, it may mean\n",
       "  that the widgets JavaScript is still loading. If this message persists, it\n",
       "  likely means that the widgets JavaScript library is either not installed or\n",
       "  not enabled. See the <a href=\"https://ipywidgets.readthedocs.io/en/stable/user_install.html\">Jupyter\n",
       "  Widgets Documentation</a> for setup instructions.\n",
       "</p>\n",
       "<p>\n",
       "  If you're reading this message in another notebook frontend (for example, a static\n",
       "  rendering on GitHub or <a href=\"https://nbviewer.jupyter.org/\">NBViewer</a>),\n",
       "  it may mean that your frontend doesn't currently support widgets.\n",
       "</p>\n"
      ],
      "text/plain": [
       "HBox(children=(VBox(children=(RadioButtons(description=u'Blue', options=(0, 1, 2, 3), value=0),)), VBox(children=(RadioButtons(description=u'Black', options=(0, 1, 2, 3), value=0),)), VBox(children=(RadioButtons(description=u'Orange', options=(0, 1, 2, 3), value=0),)), VBox(children=(RadioButtons(description=u'Red', options=(0, 1), value=0),)), VBox(children=(RadioButtons(description=u'Green', options=(0, 1), value=0),))))"
      ]
     },
     "metadata": {},
     "output_type": "display_data"
    }
   ],
   "source": [
    "HBox([bs, ks, os, r, g])"
   ]
  },
  {
   "cell_type": "code",
   "execution_count": 71,
   "metadata": {},
   "outputs": [
    {
     "name": "stdout",
     "output_type": "stream",
     "text": [
      "1\n",
      "2\n"
     ]
    }
   ],
   "source": [
    "print die_r['Blue'].value\n",
    "print die_r['Orange'].value"
   ]
  }
 ],
 "metadata": {
  "kernelspec": {
   "display_name": "Python 2",
   "language": "python",
   "name": "python2"
  },
  "language_info": {
   "codemirror_mode": {
    "name": "ipython",
    "version": 2
   },
   "file_extension": ".py",
   "mimetype": "text/x-python",
   "name": "python",
   "nbconvert_exporter": "python",
   "pygments_lexer": "ipython2",
   "version": "2.7.11"
  }
 },
 "nbformat": 4,
 "nbformat_minor": 2
}
