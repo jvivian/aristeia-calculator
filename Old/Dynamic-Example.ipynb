{
 "cells": [
  {
   "cell_type": "markdown",
   "metadata": {},
   "source": [
    "# Aristeia Calculator"
   ]
  },
  {
   "cell_type": "code",
   "execution_count": 5,
   "metadata": {},
   "outputs": [
    {
     "data": {},
     "metadata": {},
     "output_type": "display_data"
    },
    {
     "data": {
      "text/html": [
       "\n",
       "<link rel=\"stylesheet\" href=\"https://code.jquery.com/ui/1.10.4/themes/smoothness/jquery-ui.css\">\n",
       "<style>div.hololayout {\n",
       "  display: flex;\n",
       "  align-items: center;\n",
       "  margin: 0;\n",
       "}\n",
       "\n",
       "div.holoframe {\n",
       "  width: 75%;\n",
       "}\n",
       "\n",
       "div.holowell {\n",
       "  display: flex;\n",
       "  align-items: center;\n",
       "}\n",
       "\n",
       "form.holoform {\n",
       "  background-color: #fafafa;\n",
       "  border-radius: 5px;\n",
       "  overflow: hidden;\n",
       "  padding-left: 0.8em;\n",
       "  padding-right: 0.8em;\n",
       "  padding-top: 0.4em;\n",
       "  padding-bottom: 0.4em;\n",
       "  box-shadow: inset 0 1px 1px rgba(0, 0, 0, 0.05);\n",
       "  margin-bottom: 20px;\n",
       "  border: 1px solid #e3e3e3;\n",
       "}\n",
       "\n",
       "div.holowidgets {\n",
       "  padding-right: 0;\n",
       "  width: 25%;\n",
       "}\n",
       "\n",
       "div.holoslider {\n",
       "  min-height: 0 !important;\n",
       "  height: 0.8em;\n",
       "  width: 100%;\n",
       "}\n",
       "\n",
       "div.holoformgroup {\n",
       "  padding-top: 0.5em;\n",
       "  margin-bottom: 0.5em;\n",
       "}\n",
       "\n",
       "div.hologroup {\n",
       "  padding-left: 0;\n",
       "  padding-right: 0.8em;\n",
       "  width: 100%;\n",
       "}\n",
       "\n",
       ".holoselect {\n",
       "  width: 92%;\n",
       "  margin-left: 0;\n",
       "  margin-right: 0;\n",
       "}\n",
       "\n",
       ".holotext {\n",
       "  padding-left:  0.5em;\n",
       "  padding-right: 0;\n",
       "  width: 100%;\n",
       "}\n",
       "\n",
       ".holowidgets .ui-resizable-se {\n",
       "  visibility: hidden\n",
       "}\n",
       "\n",
       ".holoframe > .ui-resizable-se {\n",
       "  visibility: hidden\n",
       "}\n",
       "\n",
       ".holowidgets .ui-resizable-s {\n",
       "  visibility: hidden\n",
       "}\n",
       "\n",
       "\n",
       "/* CSS rules for noUISlider based slider used by JupyterLab extension  */\n",
       "\n",
       ".noUi-handle {\n",
       "  width: 20px !important;\n",
       "  height: 20px !important;\n",
       "  left: -5px !important;\n",
       "  top: -5px !important;\n",
       "}\n",
       "\n",
       ".noUi-handle:before, .noUi-handle:after {\n",
       "  visibility: hidden;\n",
       "  height: 0px;\n",
       "}\n",
       "\n",
       ".noUi-target {\n",
       "  margin-left: 0.5em;\n",
       "  margin-right: 0.5em;\n",
       "}\n",
       "\n",
       "div.bk-hbox {\n",
       "    display: flex;\n",
       "    justify-content: center;\n",
       "}\n",
       "\n",
       "div.bk-hbox div.bk-plot {\n",
       "    padding: 8px;\n",
       "}\n",
       "\n",
       "div.bk-hbox div.bk-data-table {\n",
       "    padding: 20px;\n",
       "}\n",
       "</style>\n",
       "\n"
      ]
     },
     "metadata": {},
     "output_type": "execute_result"
    },
    {
     "data": {},
     "metadata": {},
     "output_type": "display_data"
    }
   ],
   "source": [
    "# Import die radio widget\n",
    "from collections import defaultdict\n",
    "import numpy as np\n",
    "import pandas as pd\n",
    "import holoviews as hv\n",
    "hv.extension('bokeh', logo=False)\n",
    "\n",
    "from die import die\n",
    "from die_widget import create_die_widgets, display_widgets"
   ]
  },
  {
   "cell_type": "code",
   "execution_count": 6,
   "metadata": {},
   "outputs": [],
   "source": [
    "# Instantiate die \n",
    "# TODO: A \"Roll\" class would be a great way to introduce Aaron to OOP\n",
    "a = create_die_widgets()\n",
    "d = create_die_widgets()"
   ]
  },
  {
   "cell_type": "markdown",
   "metadata": {},
   "source": [
    "### Attacker"
   ]
  },
  {
   "cell_type": "code",
   "execution_count": 7,
   "metadata": {},
   "outputs": [
    {
     "data": {
      "text/html": [
       "<p>Failed to display Jupyter Widget of type <code>HBox</code>.</p>\n",
       "<p>\n",
       "  If you're reading this message in Jupyter Notebook or JupyterLab, it may mean\n",
       "  that the widgets JavaScript is still loading. If this message persists, it\n",
       "  likely means that the widgets JavaScript library is either not installed or\n",
       "  not enabled. See the <a href=\"https://ipywidgets.readthedocs.io/en/stable/user_install.html\">Jupyter\n",
       "  Widgets Documentation</a> for setup instructions.\n",
       "</p>\n",
       "<p>\n",
       "  If you're reading this message in another notebook frontend (for example, a static\n",
       "  rendering on GitHub or <a href=\"https://nbviewer.jupyter.org/\">NBViewer</a>),\n",
       "  it may mean that your frontend doesn't currently support widgets.\n",
       "</p>\n"
      ],
      "text/plain": [
       "HBox(children=(RadioButtons(description=u'Black', options=(0, 1, 2, 3), value=0), RadioButtons(description=u'Blue', options=(0, 1, 2, 3), value=0), RadioButtons(description=u'Green', options=(0, 1), value=0), RadioButtons(description=u'Orange', options=(0, 1, 2, 3), value=0), RadioButtons(description=u'Red', options=(0, 1), value=0), RadioButtons(description=u'Yellow', options=(0, 1, 2, 3), value=0)))"
      ]
     },
     "metadata": {},
     "output_type": "execute_result"
    }
   ],
   "source": [
    "display_widgets(a)"
   ]
  },
  {
   "cell_type": "markdown",
   "metadata": {},
   "source": [
    "### Defender"
   ]
  },
  {
   "cell_type": "code",
   "execution_count": 170,
   "metadata": {},
   "outputs": [
    {
     "data": {
      "text/html": [
       "<p>Failed to display Jupyter Widget of type <code>HBox</code>.</p>\n",
       "<p>\n",
       "  If you're reading this message in Jupyter Notebook or JupyterLab, it may mean\n",
       "  that the widgets JavaScript is still loading. If this message persists, it\n",
       "  likely means that the widgets JavaScript library is either not installed or\n",
       "  not enabled. See the <a href=\"https://ipywidgets.readthedocs.io/en/stable/user_install.html\">Jupyter\n",
       "  Widgets Documentation</a> for setup instructions.\n",
       "</p>\n",
       "<p>\n",
       "  If you're reading this message in another notebook frontend (for example, a static\n",
       "  rendering on GitHub or <a href=\"https://nbviewer.jupyter.org/\">NBViewer</a>),\n",
       "  it may mean that your frontend doesn't currently support widgets.\n",
       "</p>\n"
      ],
      "text/plain": [
       "HBox(children=(RadioButtons(description=u'Black', options=(0, 1, 2, 3), value=0), RadioButtons(description=u'Blue', options=(0, 1, 2, 3), value=0), RadioButtons(description=u'Green', options=(0, 1), value=0), RadioButtons(description=u'Orange', options=(0, 1, 2, 3), value=0), RadioButtons(description=u'Red', options=(0, 1), value=0), RadioButtons(description=u'Yellow', options=(0, 1, 2, 3), value=0)))"
      ]
     },
     "metadata": {},
     "output_type": "execute_result"
    }
   ],
   "source": [
    "display_widgets(d)"
   ]
  },
  {
   "cell_type": "code",
   "execution_count": 171,
   "metadata": {},
   "outputs": [],
   "source": [
    "def roll_die_pool(die, counts):\n",
    "    dists = defaultdict(list)\n",
    "    for choice, num_die in counts.iteritems():\n",
    "        for _ in xrange(num_die):\n",
    "            for glyph, value in die[choice].iloc[np.random.randint(0, 6)].iteritems():\n",
    "                dists[glyph].append(value)\n",
    "    return pd.DataFrame(dists)\n",
    "\n",
    "def rolls_expected_value(rolls):\n",
    "    return pd.concat(rolls).sum().divide(len(rolls))\n",
    "\n",
    "def rolls_to_dists(rolls):\n",
    "    return pd.concat([x.sum() for x in rolls], axis=1).T\n",
    "\n",
    "def roll(die, attacker, defender, n_rolls=10000):\n",
    "    # TODO: Add dynamic roll storage. Precheck for hash here, otherwise run algorithm\n",
    "\n",
    "    # Objects to hold counts\n",
    "    a_rolls, d_rolls = [], []\n",
    "    t_total = defaultdict(list)\n",
    "    output = {}  # Final output containing dists\n",
    "    \n",
    "    # Convert attacker / defender widgets to die counts\n",
    "    a_counts = {x: y.value for x, y in attacker.iteritems()}\n",
    "    d_counts = {x: y.value for x, y in defender.iteritems()}\n",
    "    \n",
    "    # Simulate n_rolls\n",
    "    for _ in xrange(n_rolls):\n",
    "        \n",
    "        # Roll attacker pool\n",
    "        a_pool = roll_die_pool(die, a_counts)\n",
    "        a_raw_pool = a_pool.copy()  # We want to record an unadulterated set for attacker distributions\n",
    "        \n",
    "        # Roll defender pool\n",
    "        d_pool = roll_die_pool(die, d_counts)\n",
    "\n",
    "        # Calculate total diffs\n",
    "        a = pd.Series({x: sum(y) for x, y in a_pool.iteritems()})\n",
    "        d = pd.Series({x: sum(y) for x, y in d_pool.iteritems()})\n",
    "        \n",
    "        # If crit-defense die, drop roll with highest number of hits\n",
    "        # TODO: Improve logic for removing most glyphs if tie\n",
    "        # Doesn't handle crit attack die\n",
    "        if d.crit_defense:\n",
    "            a_pool = a_pool.drop(a_pool.hit.argmax())\n",
    "            a = pd.Series({x: sum(y) for x, y in a_pool.iteritems()})\n",
    "        \n",
    "        a_diff = a.hit - d.defense if (a.hit - d.defense) > 0 else 0\n",
    "        d_diff = d.hit - a.defense if (d.hit - a.defense) > 0 else 0\n",
    "        \n",
    "        # Add crits, which are unaffected by defense\n",
    "        a_diff += a.crit\n",
    "        \n",
    "        # Update totals\n",
    "        a_rolls.append(a_raw_pool.sum())\n",
    "        d_rolls.append(d_pool.sum())\n",
    "        t_total['a'].append(a_diff)\n",
    "        t_total['d'].append(d_diff)\n",
    "        \n",
    "    return pd.concat(a_rolls, axis=1), pd.concat(d_rolls, axis=1), t_total"
   ]
  },
  {
   "cell_type": "code",
   "execution_count": 172,
   "metadata": {},
   "outputs": [
    {
     "name": "stdout",
     "output_type": "stream",
     "text": [
      "CPU times: user 471 ms, sys: 110 ms, total: 581 ms\n",
      "Wall time: 835 ms\n"
     ]
    }
   ],
   "source": [
    "n_rolls = 100\n",
    "%time a_rolls, d_rolls, diffs = roll(die, a, d, n_rolls=n_rolls)"
   ]
  },
  {
   "cell_type": "code",
   "execution_count": 173,
   "metadata": {},
   "outputs": [
    {
     "data": {
      "text/html": [
       "<div>\n",
       "<style>\n",
       "    .dataframe thead tr:only-child th {\n",
       "        text-align: right;\n",
       "    }\n",
       "\n",
       "    .dataframe thead th {\n",
       "        text-align: left;\n",
       "    }\n",
       "\n",
       "    .dataframe tbody tr th {\n",
       "        vertical-align: top;\n",
       "    }\n",
       "</style>\n",
       "<table border=\"1\" class=\"dataframe\">\n",
       "  <thead>\n",
       "    <tr style=\"text-align: right;\">\n",
       "      <th></th>\n",
       "      <th>0</th>\n",
       "      <th>1</th>\n",
       "      <th>2</th>\n",
       "      <th>3</th>\n",
       "      <th>4</th>\n",
       "      <th>5</th>\n",
       "      <th>6</th>\n",
       "      <th>7</th>\n",
       "      <th>8</th>\n",
       "      <th>9</th>\n",
       "      <th>...</th>\n",
       "      <th>90</th>\n",
       "      <th>91</th>\n",
       "      <th>92</th>\n",
       "      <th>93</th>\n",
       "      <th>94</th>\n",
       "      <th>95</th>\n",
       "      <th>96</th>\n",
       "      <th>97</th>\n",
       "      <th>98</th>\n",
       "      <th>99</th>\n",
       "    </tr>\n",
       "  </thead>\n",
       "  <tbody>\n",
       "    <tr>\n",
       "      <th>crit</th>\n",
       "      <td>0</td>\n",
       "      <td>0</td>\n",
       "      <td>0</td>\n",
       "      <td>0</td>\n",
       "      <td>0</td>\n",
       "      <td>0</td>\n",
       "      <td>0</td>\n",
       "      <td>0</td>\n",
       "      <td>0</td>\n",
       "      <td>0</td>\n",
       "      <td>...</td>\n",
       "      <td>0</td>\n",
       "      <td>0</td>\n",
       "      <td>0</td>\n",
       "      <td>0</td>\n",
       "      <td>0</td>\n",
       "      <td>0</td>\n",
       "      <td>0</td>\n",
       "      <td>0</td>\n",
       "      <td>0</td>\n",
       "      <td>0</td>\n",
       "    </tr>\n",
       "    <tr>\n",
       "      <th>crit_defense</th>\n",
       "      <td>0</td>\n",
       "      <td>0</td>\n",
       "      <td>0</td>\n",
       "      <td>0</td>\n",
       "      <td>0</td>\n",
       "      <td>0</td>\n",
       "      <td>0</td>\n",
       "      <td>0</td>\n",
       "      <td>0</td>\n",
       "      <td>0</td>\n",
       "      <td>...</td>\n",
       "      <td>0</td>\n",
       "      <td>0</td>\n",
       "      <td>0</td>\n",
       "      <td>0</td>\n",
       "      <td>0</td>\n",
       "      <td>0</td>\n",
       "      <td>0</td>\n",
       "      <td>0</td>\n",
       "      <td>0</td>\n",
       "      <td>0</td>\n",
       "    </tr>\n",
       "    <tr>\n",
       "      <th>defense</th>\n",
       "      <td>1</td>\n",
       "      <td>0</td>\n",
       "      <td>1</td>\n",
       "      <td>1</td>\n",
       "      <td>2</td>\n",
       "      <td>1</td>\n",
       "      <td>1</td>\n",
       "      <td>0</td>\n",
       "      <td>2</td>\n",
       "      <td>2</td>\n",
       "      <td>...</td>\n",
       "      <td>1</td>\n",
       "      <td>0</td>\n",
       "      <td>1</td>\n",
       "      <td>2</td>\n",
       "      <td>2</td>\n",
       "      <td>1</td>\n",
       "      <td>0</td>\n",
       "      <td>0</td>\n",
       "      <td>0</td>\n",
       "      <td>0</td>\n",
       "    </tr>\n",
       "    <tr>\n",
       "      <th>hit</th>\n",
       "      <td>2</td>\n",
       "      <td>2</td>\n",
       "      <td>4</td>\n",
       "      <td>2</td>\n",
       "      <td>2</td>\n",
       "      <td>3</td>\n",
       "      <td>3</td>\n",
       "      <td>5</td>\n",
       "      <td>1</td>\n",
       "      <td>1</td>\n",
       "      <td>...</td>\n",
       "      <td>3</td>\n",
       "      <td>3</td>\n",
       "      <td>1</td>\n",
       "      <td>2</td>\n",
       "      <td>0</td>\n",
       "      <td>3</td>\n",
       "      <td>2</td>\n",
       "      <td>3</td>\n",
       "      <td>3</td>\n",
       "      <td>3</td>\n",
       "    </tr>\n",
       "    <tr>\n",
       "      <th>special</th>\n",
       "      <td>2</td>\n",
       "      <td>0</td>\n",
       "      <td>2</td>\n",
       "      <td>2</td>\n",
       "      <td>3</td>\n",
       "      <td>3</td>\n",
       "      <td>2</td>\n",
       "      <td>3</td>\n",
       "      <td>1</td>\n",
       "      <td>2</td>\n",
       "      <td>...</td>\n",
       "      <td>3</td>\n",
       "      <td>1</td>\n",
       "      <td>1</td>\n",
       "      <td>2</td>\n",
       "      <td>1</td>\n",
       "      <td>3</td>\n",
       "      <td>0</td>\n",
       "      <td>1</td>\n",
       "      <td>1</td>\n",
       "      <td>2</td>\n",
       "    </tr>\n",
       "  </tbody>\n",
       "</table>\n",
       "<p>5 rows × 100 columns</p>\n",
       "</div>"
      ],
      "text/plain": [
       "              0   1   2   3   4   5   6   7   8   9  ...  90  91  92  93  94  \\\n",
       "crit           0   0   0   0   0   0   0   0   0   0 ...   0   0   0   0   0   \n",
       "crit_defense   0   0   0   0   0   0   0   0   0   0 ...   0   0   0   0   0   \n",
       "defense        1   0   1   1   2   1   1   0   2   2 ...   1   0   1   2   2   \n",
       "hit            2   2   4   2   2   3   3   5   1   1 ...   3   3   1   2   0   \n",
       "special        2   0   2   2   3   3   2   3   1   2 ...   3   1   1   2   1   \n",
       "\n",
       "              95  96  97  98  99  \n",
       "crit           0   0   0   0   0  \n",
       "crit_defense   0   0   0   0   0  \n",
       "defense        1   0   0   0   0  \n",
       "hit            3   2   3   3   3  \n",
       "special        3   0   1   1   2  \n",
       "\n",
       "[5 rows x 100 columns]"
      ]
     },
     "execution_count": 173,
     "metadata": {},
     "output_type": "execute_result"
    }
   ],
   "source": [
    "a_rolls"
   ]
  },
  {
   "cell_type": "markdown",
   "metadata": {},
   "source": [
    "#### Calculate Expected Value"
   ]
  },
  {
   "cell_type": "code",
   "execution_count": 175,
   "metadata": {},
   "outputs": [
    {
     "data": {
      "text/html": [
       "<div style='display: table; margin: 0 auto;'>\n",
       "<div class=\"bk-root\">\n",
       "    <div class=\"bk-plotdiv\" id=\"f37fb688-db6a-4f6d-adf0-eb56988f0af1\"></div>\n",
       "</div></div>"
      ]
     },
     "metadata": {},
     "output_type": "execute_result"
    },
    {
     "data": {},
     "metadata": {
      "application/vnd.holoviews_exec.v0+json": {
       "id": "8d87e035-8ba4-4450-955f-c40ed032176e"
      }
     },
     "output_type": "display_data"
    },
    {
     "data": {
      "text/html": [],
      "text/plain": [
       ":Distribution   [hit]   (Density)"
      ]
     },
     "execution_count": 175,
     "metadata": {},
     "output_type": "execute_result"
    }
   ],
   "source": [
    "hv.Distribution(a_rolls.loc['hit'])"
   ]
  },
  {
   "cell_type": "code",
   "execution_count": 164,
   "metadata": {},
   "outputs": [
    {
     "data": {
      "text/html": [
       "<div style='display: table; margin: 0 auto;'>\n",
       "<div class=\"bk-root\">\n",
       "    <div class=\"bk-plotdiv\" id=\"b8764509-c610-4b91-8c51-6e0db68258c8\"></div>\n",
       "</div></div>"
      ]
     },
     "metadata": {},
     "output_type": "execute_result"
    },
    {
     "data": {},
     "metadata": {
      "application/vnd.holoviews_exec.v0+json": {
       "id": "6570ea1a-5066-4849-b792-23f5e0fc7a87"
      }
     },
     "output_type": "display_data"
    },
    {
     "data": {
      "text/html": [],
      "text/plain": [
       ":Layout\n",
       "   .Bars.Attacker :Bars   [x]   (y)\n",
       "   .Bars.Defender :Bars   [x]   (y)"
      ]
     },
     "execution_count": 164,
     "metadata": {},
     "output_type": "execute_result"
    }
   ],
   "source": [
    "%%opts Bars [xrotation=45 tools=['hover']]\n",
    "exp_a = a_rolls.sum(axis=1).divide(n_rolls)\n",
    "exp_d = d_rolls.sum(axis=1).divide(n_rolls)\n",
    "hv.Bars((exp_a.index, exp_a), label='Attacker') + \\\n",
    "hv.Bars((exp_d.index, exp_d), label='Defender')"
   ]
  },
  {
   "cell_type": "markdown",
   "metadata": {},
   "source": [
    "#### Probability"
   ]
  },
  {
   "cell_type": "code",
   "execution_count": 162,
   "metadata": {},
   "outputs": [
    {
     "data": {
      "text/html": [
       "<div style='display: table; margin: 0 auto;'>\n",
       "<div class=\"bk-root\">\n",
       "    <div class=\"bk-plotdiv\" id=\"efe71771-2af0-4e1c-9259-e3b567fc1262\"></div>\n",
       "</div></div>"
      ]
     },
     "metadata": {},
     "output_type": "execute_result"
    },
    {
     "data": {},
     "metadata": {
      "application/vnd.holoviews_exec.v0+json": {
       "id": "d4e5002f-e9ae-4e66-b4e4-b538aa8f60a1"
      }
     },
     "output_type": "display_data"
    },
    {
     "data": {
      "text/html": [],
      "text/plain": [
       ":Histogram   [Damage Done]   (Probability Estimate)"
      ]
     },
     "execution_count": 162,
     "metadata": {},
     "output_type": "execute_result"
    }
   ],
   "source": [
    "hist = np.histogram(diffs['a'], bins=np.max(diffs['a']) + 1)\n",
    "hist = hv.Histogram(hist, kdims='Damage Done', vdims='Probability Estimate')\n",
    "# Normalize hist to probability (sum to 1)\n",
    "freq = hist.data['Probability Estimate']\n",
    "freq = np.array([float(i)/sum(freq) for i in freq])\n",
    "hist.data['Probability Estimate'] = freq\n",
    "hist"
   ]
  },
  {
   "cell_type": "markdown",
   "metadata": {},
   "source": [
    "## User Display\n",
    "TODO:\n",
    "\n",
    "- Not shit histogram for damage done\n",
    "- PMF from the not-shit histogram\n",
    "- Provide expected values"
   ]
  },
  {
   "cell_type": "markdown",
   "metadata": {},
   "source": []
  },
  {
   "cell_type": "code",
   "execution_count": 117,
   "metadata": {},
   "outputs": [
    {
     "data": {
      "text/html": [
       "<div style='display: table; margin: 0 auto;'>\n",
       "<div class=\"bk-root\">\n",
       "    <div class=\"bk-plotdiv\" id=\"1970e823-39e7-4233-832c-877eeb57b47d\"></div>\n",
       "</div></div>"
      ]
     },
     "metadata": {},
     "output_type": "execute_result"
    },
    {
     "data": {},
     "metadata": {
      "application/vnd.holoviews_exec.v0+json": {
       "id": "db8fed6d-5565-4f37-90a3-64c44a34b46d"
      }
     },
     "output_type": "display_data"
    },
    {
     "data": {
      "text/html": [],
      "text/plain": [
       ":Histogram   [Damage Done]   (Probability Estimate)"
      ]
     },
     "execution_count": 117,
     "metadata": {},
     "output_type": "execute_result"
    }
   ],
   "source": [
    "hist = np.histogram(diffs['a'], bins=np.max(diffs['a']) + 1)\n",
    "hist = hv.Histogram(hist)\n",
    "# Normalize hist to probability (sum to 1)\n",
    "freq = hist.data['Probability Estimate']\n",
    "freq = np.array([float(i)/sum(freq) for i in freq])\n",
    "hist.data['Probability Estimate'] = freq\n",
    "hist"
   ]
  },
  {
   "cell_type": "code",
   "execution_count": 139,
   "metadata": {},
   "outputs": [],
   "source": [
    "y, x = np.histogram(diffs['a'], bins=50)"
   ]
  },
  {
   "cell_type": "code",
   "execution_count": 140,
   "metadata": {},
   "outputs": [
    {
     "data": {
      "text/html": [
       "<div style='display: table; margin: 0 auto;'>\n",
       "<div class=\"bk-root\">\n",
       "    <div class=\"bk-plotdiv\" id=\"7168ef4b-c185-41ca-8f6b-c08ad57ff0f6\"></div>\n",
       "</div></div>"
      ]
     },
     "metadata": {},
     "output_type": "execute_result"
    },
    {
     "data": {},
     "metadata": {
      "application/vnd.holoviews_exec.v0+json": {
       "id": "00ea097f-d4da-4b3c-b0bc-cf27bc2becbc"
      }
     },
     "output_type": "display_data"
    },
    {
     "data": {
      "text/html": [],
      "text/plain": [
       ":Curve   [x]   (y)"
      ]
     },
     "execution_count": 140,
     "metadata": {},
     "output_type": "execute_result"
    }
   ],
   "source": [
    "hv.Curve((x, y))"
   ]
  },
  {
   "cell_type": "code",
   "execution_count": null,
   "metadata": {},
   "outputs": [],
   "source": []
  },
  {
   "cell_type": "code",
   "execution_count": null,
   "metadata": {},
   "outputs": [],
   "source": []
  },
  {
   "cell_type": "markdown",
   "metadata": {},
   "source": [
    "### PMF"
   ]
  },
  {
   "cell_type": "code",
   "execution_count": 178,
   "metadata": {},
   "outputs": [
    {
     "data": {
      "text/plain": [
       "0    4\n",
       "1    1\n",
       "Name: hit, dtype: int64"
      ]
     },
     "execution_count": 178,
     "metadata": {},
     "output_type": "execute_result"
    }
   ],
   "source": []
  },
  {
   "cell_type": "code",
   "execution_count": 187,
   "metadata": {},
   "outputs": [
    {
     "data": {
      "text/plain": [
       "(array([7, 3]), array([ 0.,  2.,  4.]))"
      ]
     },
     "execution_count": 187,
     "metadata": {},
     "output_type": "execute_result"
    }
   ],
   "source": [
    "np.histogram(dists, 2)"
   ]
  },
  {
   "cell_type": "code",
   "execution_count": 195,
   "metadata": {},
   "outputs": [],
   "source": [
    "# Convert rolls to dists\n",
    "dists = rolls_to_dists(a_rolls)\n",
    "frequencies, edges = np.histogram(dists.hit, 20)\n",
    "# Make histogram\n",
    "hist = hv.Histogram((frequencies, edges))\n",
    "# Normalize hist to probability (sum to 1)\n",
    "freq = hist.data['Frequency']\n",
    "freq = np.array([float(i)/sum(freq) for i in freq])\n",
    "hist.data['Frequency'] = freq"
   ]
  },
  {
   "cell_type": "code",
   "execution_count": 196,
   "metadata": {},
   "outputs": [
    {
     "data": {
      "text/html": [
       "<div style='display: table; margin: 0 auto;'>\n",
       "<div class=\"bk-root\">\n",
       "    <div class=\"bk-plotdiv\" id=\"b4b53070-89e0-4f62-b91b-1bd3bcc47d73\"></div>\n",
       "</div></div>"
      ]
     },
     "metadata": {},
     "output_type": "execute_result"
    },
    {
     "data": {},
     "metadata": {
      "application/vnd.holoviews_exec.v0+json": {
       "id": "81ebfef2-12a3-4759-8439-23b5d607eaf0"
      }
     },
     "output_type": "display_data"
    },
    {
     "data": {
      "text/html": [],
      "text/plain": [
       ":Histogram   [x]   (Frequency)"
      ]
     },
     "execution_count": 196,
     "metadata": {},
     "output_type": "execute_result"
    }
   ],
   "source": [
    "hist"
   ]
  }
 ],
 "metadata": {
  "kernelspec": {
   "display_name": "Python 2",
   "language": "python",
   "name": "python2"
  },
  "language_info": {
   "codemirror_mode": {
    "name": "ipython",
    "version": 2
   },
   "file_extension": ".py",
   "mimetype": "text/x-python",
   "name": "python",
   "nbconvert_exporter": "python",
   "pygments_lexer": "ipython2",
   "version": "2.7.11"
  }
 },
 "nbformat": 4,
 "nbformat_minor": 2
}
