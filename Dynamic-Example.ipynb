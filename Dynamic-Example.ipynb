{
 "cells": [
  {
   "cell_type": "markdown",
   "metadata": {},
   "source": [
    "# Dynamic Example"
   ]
  },
  {
   "cell_type": "code",
   "execution_count": 1,
   "metadata": {},
   "outputs": [],
   "source": [
    "# Import die radio widget\n",
    "from collections import defaultdict\n",
    "import numpy as np\n",
    "import pandas as pd\n",
    "\n",
    "from die import die\n",
    "from die_widget import create_die_widgets, display_widgets"
   ]
  },
  {
   "cell_type": "code",
   "execution_count": 2,
   "metadata": {},
   "outputs": [],
   "source": [
    "# Instantiate die \n",
    "# TODO: A \"Roll\" class would be a great way to introduce Aaron to OOP\n",
    "a = create_die_widgets()\n",
    "d = create_die_widgets()"
   ]
  },
  {
   "cell_type": "markdown",
   "metadata": {},
   "source": [
    "### Attacker"
   ]
  },
  {
   "cell_type": "code",
   "execution_count": 3,
   "metadata": {},
   "outputs": [
    {
     "data": {
      "application/vnd.jupyter.widget-view+json": {
       "model_id": "b19ae6b99f5f4937918ea0278abc0b3d",
       "version_major": 2,
       "version_minor": 0
      },
      "text/html": [
       "<p>Failed to display Jupyter Widget of type <code>HBox</code>.</p>\n",
       "<p>\n",
       "  If you're reading this message in Jupyter Notebook or JupyterLab, it may mean\n",
       "  that the widgets JavaScript is still loading. If this message persists, it\n",
       "  likely means that the widgets JavaScript library is either not installed or\n",
       "  not enabled. See the <a href=\"https://ipywidgets.readthedocs.io/en/stable/user_install.html\">Jupyter\n",
       "  Widgets Documentation</a> for setup instructions.\n",
       "</p>\n",
       "<p>\n",
       "  If you're reading this message in another notebook frontend (for example, a static\n",
       "  rendering on GitHub or <a href=\"https://nbviewer.jupyter.org/\">NBViewer</a>),\n",
       "  it may mean that your frontend doesn't currently support widgets.\n",
       "</p>\n"
      ],
      "text/plain": [
       "HBox(children=(RadioButtons(description=u'Black', options=(0, 1, 2, 3), value=0), RadioButtons(description=u'Blue', options=(0, 1, 2, 3), value=0), RadioButtons(description=u'Green', options=(0, 1), value=0), RadioButtons(description=u'Orange', options=(0, 1, 2, 3), value=0), RadioButtons(description=u'Red', options=(0, 1), value=0), RadioButtons(description=u'Yellow', options=(0, 1, 2, 3), value=0)))"
      ]
     },
     "metadata": {},
     "output_type": "display_data"
    }
   ],
   "source": [
    "display_widgets(a)"
   ]
  },
  {
   "cell_type": "markdown",
   "metadata": {},
   "source": [
    "### Defender"
   ]
  },
  {
   "cell_type": "code",
   "execution_count": 4,
   "metadata": {},
   "outputs": [
    {
     "data": {
      "application/vnd.jupyter.widget-view+json": {
       "model_id": "017c55030a454baba2f85b80cbb2316c",
       "version_major": 2,
       "version_minor": 0
      },
      "text/html": [
       "<p>Failed to display Jupyter Widget of type <code>HBox</code>.</p>\n",
       "<p>\n",
       "  If you're reading this message in Jupyter Notebook or JupyterLab, it may mean\n",
       "  that the widgets JavaScript is still loading. If this message persists, it\n",
       "  likely means that the widgets JavaScript library is either not installed or\n",
       "  not enabled. See the <a href=\"https://ipywidgets.readthedocs.io/en/stable/user_install.html\">Jupyter\n",
       "  Widgets Documentation</a> for setup instructions.\n",
       "</p>\n",
       "<p>\n",
       "  If you're reading this message in another notebook frontend (for example, a static\n",
       "  rendering on GitHub or <a href=\"https://nbviewer.jupyter.org/\">NBViewer</a>),\n",
       "  it may mean that your frontend doesn't currently support widgets.\n",
       "</p>\n"
      ],
      "text/plain": [
       "HBox(children=(RadioButtons(description=u'Black', options=(0, 1, 2, 3), value=0), RadioButtons(description=u'Blue', options=(0, 1, 2, 3), value=0), RadioButtons(description=u'Green', options=(0, 1), value=0), RadioButtons(description=u'Orange', options=(0, 1, 2, 3), value=0), RadioButtons(description=u'Red', options=(0, 1), value=0), RadioButtons(description=u'Yellow', options=(0, 1, 2, 3), value=0)))"
      ]
     },
     "metadata": {},
     "output_type": "display_data"
    }
   ],
   "source": [
    "display_widgets(d)"
   ]
  },
  {
   "cell_type": "code",
   "execution_count": 8,
   "metadata": {},
   "outputs": [],
   "source": [
    "def roll_die_pool(die, counts):\n",
    "    dists = defaultdict(list)\n",
    "    for choice, num_die in counts.iteritems():\n",
    "        for _ in xrange(num_die):\n",
    "            for glyph, value in die[choice].iloc[np.random.randint(0, 6)].iteritems():\n",
    "                dists[glyph].append(value)\n",
    "    return pd.DataFrame(dists)"
   ]
  },
  {
   "cell_type": "code",
   "execution_count": 19,
   "metadata": {},
   "outputs": [],
   "source": [
    "def roll(die, attacker, defender, n_rolls=10000):\n",
    "    # TODO: Add dynamic roll storage. Precheck for hash here, otherwise run algorithm\n",
    "\n",
    "    # Objects to hold counts\n",
    "    a_rolls, d_rolls = [], []\n",
    "    t_total = defaultdict(list)\n",
    "    \n",
    "    # Convert attacker / defender widgets to die counts\n",
    "    a_counts = {x: y.value for x, y in attacker.iteritems()}\n",
    "    d_counts = {x: y.value for x, y in defender.iteritems()}\n",
    "    \n",
    "    # Simulate n_rolls\n",
    "    for _ in xrange(n_rolls):\n",
    "        \n",
    "        # Roll attacker pool\n",
    "        a_pool = roll_die_pool(die, a_counts)\n",
    "        a_raw_pool = a_pool.copy()  # We want to record an unadulterated set for attacker distributions\n",
    "        \n",
    "        # Roll defender pool\n",
    "        d_pool = roll_die_pool(die, d_counts)\n",
    "\n",
    "        # Calculate total diffs\n",
    "        a = {x: sum(y) for x, y in a_pool.iteritems()}\n",
    "        d = {x: sum(y) for x, y in d_pool.iteritems()}\n",
    "        \n",
    "        # If crit-defense die, drop roll with highest number of hits\n",
    "        # TODO: logic? crit die?\n",
    "        if d['crit-defense']:\n",
    "            a_pool = a_pool.drop(a_pool.hit.argmax())\n",
    "            a = {x: sum(y) for x, y in a_pool.iteritems()}\n",
    "        \n",
    "        a_diff = a['hit'] - d['defense'] if (a['hit'] - d['defense']) > 0 else 0\n",
    "        d_diff = d['hit'] - a['defense'] if (d['hit'] - a['defense']) > 0 else 0\n",
    "        \n",
    "        # Add crits, which are unaffected by defense\n",
    "        a_diff += a['crit']\n",
    "        \n",
    "        # Update totals\n",
    "        a_rolls.append(a_raw_pool)\n",
    "        d_rolls.append(d_pool)\n",
    "        t_total['a'].append(a_diff)\n",
    "        t_total['d'].append(d_diff)\n",
    "        \n",
    "    return a_rolls, d_rolls, t_total"
   ]
  },
  {
   "cell_type": "code",
   "execution_count": 31,
   "metadata": {},
   "outputs": [],
   "source": [
    "a_rolls, d_rolls, diffs = roll(die, a, d, n_rolls=2)"
   ]
  },
  {
   "cell_type": "code",
   "execution_count": 32,
   "metadata": {},
   "outputs": [
    {
     "data": {
      "text/plain": [
       "[   crit  crit-defense  defense  hit  special\n",
       " 0     0             0        0    2        1,\n",
       "    crit  crit-defense  defense  hit  special\n",
       " 0     0             0        1    0        0]"
      ]
     },
     "execution_count": 32,
     "metadata": {},
     "output_type": "execute_result"
    }
   ],
   "source": [
    "a_rolls"
   ]
  },
  {
   "cell_type": "code",
   "execution_count": 33,
   "metadata": {},
   "outputs": [
    {
     "data": {
      "text/html": [
       "<div>\n",
       "<style>\n",
       "    .dataframe thead tr:only-child th {\n",
       "        text-align: right;\n",
       "    }\n",
       "\n",
       "    .dataframe thead th {\n",
       "        text-align: left;\n",
       "    }\n",
       "\n",
       "    .dataframe tbody tr th {\n",
       "        vertical-align: top;\n",
       "    }\n",
       "</style>\n",
       "<table border=\"1\" class=\"dataframe\">\n",
       "  <thead>\n",
       "    <tr style=\"text-align: right;\">\n",
       "      <th></th>\n",
       "      <th>crit</th>\n",
       "      <th>crit-defense</th>\n",
       "      <th>defense</th>\n",
       "      <th>hit</th>\n",
       "      <th>special</th>\n",
       "    </tr>\n",
       "  </thead>\n",
       "  <tbody>\n",
       "    <tr>\n",
       "      <th>0</th>\n",
       "      <td>0</td>\n",
       "      <td>0</td>\n",
       "      <td>0</td>\n",
       "      <td>2</td>\n",
       "      <td>1</td>\n",
       "    </tr>\n",
       "  </tbody>\n",
       "</table>\n",
       "</div>"
      ],
      "text/plain": [
       "   crit  crit-defense  defense  hit  special\n",
       "0     0             0        0    2        1"
      ]
     },
     "execution_count": 33,
     "metadata": {},
     "output_type": "execute_result"
    }
   ],
   "source": [
    "a_rolls[0]"
   ]
  },
  {
   "cell_type": "code",
   "execution_count": 35,
   "metadata": {},
   "outputs": [
    {
     "data": {
      "text/plain": [
       "defaultdict(list, {'a': [2, 0], 'd': [0, 0]})"
      ]
     },
     "execution_count": 35,
     "metadata": {},
     "output_type": "execute_result"
    }
   ],
   "source": [
    "diffs"
   ]
  }
 ],
 "metadata": {
  "kernelspec": {
   "display_name": "Python 2",
   "language": "python",
   "name": "python2"
  },
  "language_info": {
   "codemirror_mode": {
    "name": "ipython",
    "version": 2
   },
   "file_extension": ".py",
   "mimetype": "text/x-python",
   "name": "python",
   "nbconvert_exporter": "python",
   "pygments_lexer": "ipython2",
   "version": "2.7.11"
  }
 },
 "nbformat": 4,
 "nbformat_minor": 2
}
